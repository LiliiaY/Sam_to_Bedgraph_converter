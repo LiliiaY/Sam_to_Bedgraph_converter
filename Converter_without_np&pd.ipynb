{
 "cells": [
  {
   "cell_type": "code",
   "execution_count": 1,
   "metadata": {},
   "outputs": [],
   "source": [
    "import os\n",
    "import re"
   ]
  },
  {
   "cell_type": "code",
   "execution_count": 2,
   "metadata": {},
   "outputs": [],
   "source": [
    "# Создаём папку для выходных файлов. Если таковая уже имеется, то очищаем ее от старых файлов.\n",
    "if os.path.exists(\"Output\"):\n",
    "    for file in os.listdir(\"Output/\"):\n",
    "        os.remove(\"Output/\" + file)    \n",
    "else:        \n",
    "    os.mkdir(\"Output\")"
   ]
  },
  {
   "cell_type": "code",
   "execution_count": 3,
   "metadata": {},
   "outputs": [],
   "source": [
    "# Cчитаем количество строк, отведённых под тэги [header section]\n",
    "def Skip_string (infile):\n",
    "    count = 0\n",
    "    with open (infile) as f:\n",
    "        for line in f:\n",
    "            if line.startswith(\"@\"):\n",
    "                count = count + 1\n",
    "            else:\n",
    "                break\n",
    "    return count"
   ]
  },
  {
   "cell_type": "code",
   "execution_count": 8,
   "metadata": {},
   "outputs": [],
   "source": [
    "def Make_tab(file, tags):\n",
    "    k = 0\n",
    "    list_input = [[]*50 for x in range(3)]\n",
    "    with open (file) as f:\n",
    "        for line in f:\n",
    "            if k >= tags_num: \n",
    "                #print(line)\n",
    "                col = line.split(\"\\t\")\n",
    "                list_input[0].append(col[2])\n",
    "                list_input[1].append(int(col[3]))\n",
    "                list_input[2].append(col[5])         \n",
    "            k +=1\n",
    "    bam = list(zip(*list_input))\n",
    "    bam = sorted(bam, key = lambda x: (x[0], x[1]))\n",
    "    bam = list(zip(*bam))\n",
    "    #print(bam)\n",
    "    return(bam)\n",
    "            "
   ]
  },
  {
   "cell_type": "code",
   "execution_count": 9,
   "metadata": {},
   "outputs": [],
   "source": [
    "# Функция, получающая таблицу формата Bedgraph из листа, содержащего информацию о покрытии каждого элемента\n",
    "# chr 10, [1 1 1 1 3 3 0 0 4 4 4] (здесь первый элемент имеет нулевой индекс)\n",
    "#          _______ \n",
    "#              |            \n",
    "#  >> [10 0 4 4]   ___\n",
    "#                   |\n",
    "#          [10 4 6 2]      ____\n",
    "#                           |\n",
    "#                  [10 8 11 3]\n",
    "\n",
    "def Make_bedgraph(cover_list):\n",
    "    \n",
    "    flg = 0 # необходим для пропуска баз с нулевым покрытием, эти регионы не учитываются в bedgraph файле\n",
    "    \n",
    "    # отдельно считаем покрытие для первой базы из исходного файла \n",
    "    if cover_list[0]!= 0:\n",
    "        bed_list[0].append(chrom)\n",
    "        bed_list[1].append(0)\n",
    "        bed_list[3].append(cover_list[0])\n",
    "        flg = 1\n",
    "        \n",
    "    for i in range(1, len(cover_list)):\n",
    "        #print(i)\n",
    "        if cover_list[i] != cover_list[i-1]: \n",
    "            if flg!=0:\n",
    "                bed_list[2].append(i)  # добавляем конец предыдущего полуинтервала покрытия = началу нового отрезка покрытия. \n",
    "            if cover_list[i]!= 0:  \n",
    "                bed_list[0].append(chrom)\n",
    "                bed_list[1].append(i)\n",
    "                bed_list[3].append(cover_list[i])\n",
    "                flg = 1\n",
    "            if cover_list[i] == 0:\n",
    "                flg = 0\n",
    "                \n",
    "    return(bed_list)   "
   ]
  },
  {
   "cell_type": "code",
   "execution_count": 10,
   "metadata": {},
   "outputs": [
    {
     "name": "stdout",
     "output_type": "stream",
     "text": [
      "for_test.sam\n",
      "Chromosomes:  ['III', 'IV', 'V']\n",
      "Calculating chromosome III...\n",
      "Calculating chromosome IV...\n",
      "Calculating chromosome V...\n",
      "[('III', 2555, 2655, 1), ('III', 3100, 3200, 1), ('III', 6790, 6890, 1), ('III', 7234, 7334, 1), ('III', 21931, 22031, 1), ('III', 22351, 22451, 1), ('III', 25570, 25670, 1), ('III', 25996, 26096, 1), ('III', 27361, 27461, 1), ('III', 27756, 27856, 1)]\n"
     ]
    }
   ],
   "source": [
    "in_dir = \"Input/\"\n",
    "read_len = 300 # Initial length of reads. Default = 300\n",
    "\n",
    "for file in os.listdir(in_dir): # Ведём рассчеты для всех файлов, помещенных в папку Input\n",
    "    print(file)\n",
    "    bed_list = [[]*50 for x in range(4)]\n",
    "    tags_num = Skip_string(in_dir + file)\n",
    "    bam = Make_tab(in_dir + file, tags_num)    \n",
    "    \n",
    "    chroms = list(set(bam[0])) # получаем список хромосом из .sam файла\n",
    "    chroms.sort()\n",
    "    print(\"Chromosomes: \", chroms)\n",
    "\n",
    "    \n",
    "    for chrom in chroms:\n",
    "        \n",
    "        print(\"Calculating chromosome {}...\".format(chrom))\n",
    "#         bam_for_chr = bam[bam['chr']== chrom]['coord']\n",
    "#         bam_chr_indices = bam_for_chr.index.tolist()\n",
    "        #print(bam_chr_indices)\n",
    "    \n",
    "        coverage_all = [0] * (max(bam[1]) + read_len) # cоздаем лист, который затем заполним информацией о покрытии каждого элемента\n",
    "        for i in range(len(bam[0])):\n",
    "            if bam[0][i] == chrom:\n",
    "            \n",
    "        \n",
    "#         M alignment match (can be a sequence match or mismatch)\n",
    "#         I insertion to the reference\n",
    "#         D deletion from the reference\n",
    "#         N skipped region from the reference\n",
    "#         S soft clipping (clipped sequences present in SEQ)\n",
    "#         H hard clipping (clipped sequences NOT present in SEQ)\n",
    "#         P padding (silent deletion from padded reference)\n",
    "           \n",
    "                # Распознавание CIGAR операторов\n",
    "                cigar = re.findall(r'(\\d+)([A-Z]{1})', bam[2][i])   #cigar - лист вида: [('13', 'S'), ('138', 'M')]  \n",
    "                # print(cigar)\n",
    "                cursor = bam[1][i]\n",
    "\n",
    "                for c in cigar:\n",
    "                    if c[1] == \"M\" or c[1] == \"=\" or c[1] == \"X\":  # обрабатываем части ридов, которые заматчились\n",
    "                        coord_start = cursor\n",
    "                        coord_end = coord_start + int(c[0])\n",
    "                        cursor = coord_end\n",
    "                        for i in range(coord_start-1, coord_end-1):\n",
    "                             coverage_all[i] += 1  \n",
    "                    elif c[1] == \"D\" or c[1] == \"N\" or c[1] == \"P\":\n",
    "                        cursor = cursor + int(c[0])   \n",
    "\n",
    "        bed_list = Make_bedgraph(coverage_all)\n",
    "        \n",
    "    bed_df = list(zip(*bed_list))\n",
    "    print(bed_df[:10])  #выводим первые 10 значений\n",
    "\n",
    "    # Cохраняем файл \n",
    "    file = file.split(\".\")[0]\n",
    "    f_out = open(\"Output/{}.bedgraph\".format(file), \"w\")\n",
    "    f_out.write(\"\\n\".join(['\\t'.join(map(str, item)) for item in bed_df]))\n",
    "            "
   ]
  },
  {
   "cell_type": "code",
   "execution_count": null,
   "metadata": {},
   "outputs": [],
   "source": []
  }
 ],
 "metadata": {
  "kernelspec": {
   "display_name": "Python 3",
   "language": "python",
   "name": "python3"
  },
  "language_info": {
   "codemirror_mode": {
    "name": "ipython",
    "version": 3
   },
   "file_extension": ".py",
   "mimetype": "text/x-python",
   "name": "python",
   "nbconvert_exporter": "python",
   "pygments_lexer": "ipython3",
   "version": "3.7.4"
  }
 },
 "nbformat": 4,
 "nbformat_minor": 2
}
